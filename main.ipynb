{
  "nbformat": 4,
  "nbformat_minor": 0,
  "metadata": {
    "colab": {
      "name": "main.ipynb",
      "provenance": [],
      "collapsed_sections": [],
      "authorship_tag": "ABX9TyMw3X0pn+bAWeBM3UgjEJ1n",
      "include_colab_link": true
    },
    "kernelspec": {
      "name": "python3",
      "display_name": "Python 3"
    }
  },
  "cells": [
    {
      "cell_type": "markdown",
      "metadata": {
        "id": "view-in-github",
        "colab_type": "text"
      },
      "source": [
        "<a href=\"https://colab.research.google.com/github/YRRbit/python-youtube-code/blob/master/main.ipynb\" target=\"_parent\"><img src=\"https://colab.research.google.com/assets/colab-badge.svg\" alt=\"Open In Colab\"/></a>"
      ]
    },
    {
      "cell_type": "code",
      "metadata": {
        "id": "QpVmh5mgre30"
      },
      "source": [
        "import numpy as np\r\n",
        "import pandas as pd\r\n",
        "import matplotlib.pyplot as plt\r\n",
        "import seaborn as sns\r\n",
        "from scipy import stats\r\n",
        "\r\n",
        "import warnings\r\n",
        "warnings.filterwarnings(\"ignore\")\r\n",
        " \r\n",
        "%matplotlib inline"
      ],
      "execution_count": 1,
      "outputs": []
    },
    {
      "cell_type": "code",
      "metadata": {
        "colab": {
          "base_uri": "https://localhost:8080/"
        },
        "id": "99tk5KZ-s-TU",
        "outputId": "4dbbd854-98ac-4052-ecb5-e58598b87792"
      },
      "source": [
        "from google.colab import drive\r\n",
        "drive.mount('/content/drive')"
      ],
      "execution_count": 6,
      "outputs": [
        {
          "output_type": "stream",
          "text": [
            "Mounted at /content/drive\n"
          ],
          "name": "stdout"
        }
      ]
    },
    {
      "cell_type": "code",
      "metadata": {
        "id": "8qUo9gJyrl0c"
      },
      "source": [
        "\"\"\"\r\n",
        "读取数据集\r\n",
        "\"\"\"\r\n",
        "test_data = pd.read_csv('/content/drive/MyDrive/data_format1/test_format1.csv')\r\n",
        "train_data = pd.read_csv('/content/drive/MyDrive/data_format1/train_format1.csv')\r\n",
        "\r\n",
        "user_info = pd.read_csv('/content/drive/MyDrive/data_format1/user_info_format1.csv')\r\n",
        "user_log = pd.read_csv('/content/drive/MyDrive/data_format1/user_log_format1.csv')\r\n",
        "\r\n",
        "#user_info = pd.read_csv('./user_info_format1.csv').drop_duplicates()\r\n",
        "#user_log = pd.read_csv('./user_log_format1.csv').rename(columns={\"seller_id\":'merchant_id'})"
      ],
      "execution_count": 26,
      "outputs": []
    },
    {
      "cell_type": "code",
      "metadata": {
        "colab": {
          "base_uri": "https://localhost:8080/",
          "height": 195
        },
        "id": "rEtExpI6xvU7",
        "outputId": "086243e0-6f2d-4b01-ee9d-f53c06a12a93"
      },
      "source": [
        "train_data.head(5)"
      ],
      "execution_count": 27,
      "outputs": [
        {
          "output_type": "execute_result",
          "data": {
            "text/html": [
              "<div>\n",
              "<style scoped>\n",
              "    .dataframe tbody tr th:only-of-type {\n",
              "        vertical-align: middle;\n",
              "    }\n",
              "\n",
              "    .dataframe tbody tr th {\n",
              "        vertical-align: top;\n",
              "    }\n",
              "\n",
              "    .dataframe thead th {\n",
              "        text-align: right;\n",
              "    }\n",
              "</style>\n",
              "<table border=\"1\" class=\"dataframe\">\n",
              "  <thead>\n",
              "    <tr style=\"text-align: right;\">\n",
              "      <th></th>\n",
              "      <th>user_id</th>\n",
              "      <th>merchant_id</th>\n",
              "      <th>label</th>\n",
              "    </tr>\n",
              "  </thead>\n",
              "  <tbody>\n",
              "    <tr>\n",
              "      <th>0</th>\n",
              "      <td>34176</td>\n",
              "      <td>3906</td>\n",
              "      <td>0</td>\n",
              "    </tr>\n",
              "    <tr>\n",
              "      <th>1</th>\n",
              "      <td>34176</td>\n",
              "      <td>121</td>\n",
              "      <td>0</td>\n",
              "    </tr>\n",
              "    <tr>\n",
              "      <th>2</th>\n",
              "      <td>34176</td>\n",
              "      <td>4356</td>\n",
              "      <td>1</td>\n",
              "    </tr>\n",
              "    <tr>\n",
              "      <th>3</th>\n",
              "      <td>34176</td>\n",
              "      <td>2217</td>\n",
              "      <td>0</td>\n",
              "    </tr>\n",
              "    <tr>\n",
              "      <th>4</th>\n",
              "      <td>230784</td>\n",
              "      <td>4818</td>\n",
              "      <td>0</td>\n",
              "    </tr>\n",
              "  </tbody>\n",
              "</table>\n",
              "</div>"
            ],
            "text/plain": [
              "   user_id  merchant_id  label\n",
              "0    34176         3906      0\n",
              "1    34176          121      0\n",
              "2    34176         4356      1\n",
              "3    34176         2217      0\n",
              "4   230784         4818      0"
            ]
          },
          "metadata": {
            "tags": []
          },
          "execution_count": 27
        }
      ]
    },
    {
      "cell_type": "code",
      "metadata": {
        "colab": {
          "base_uri": "https://localhost:8080/",
          "height": 195
        },
        "id": "ZpR-qyXcxzio",
        "outputId": "020447d6-ccf5-4a87-b98c-61dffc0fdd6f"
      },
      "source": [
        "test_data.head(5)"
      ],
      "execution_count": 28,
      "outputs": [
        {
          "output_type": "execute_result",
          "data": {
            "text/html": [
              "<div>\n",
              "<style scoped>\n",
              "    .dataframe tbody tr th:only-of-type {\n",
              "        vertical-align: middle;\n",
              "    }\n",
              "\n",
              "    .dataframe tbody tr th {\n",
              "        vertical-align: top;\n",
              "    }\n",
              "\n",
              "    .dataframe thead th {\n",
              "        text-align: right;\n",
              "    }\n",
              "</style>\n",
              "<table border=\"1\" class=\"dataframe\">\n",
              "  <thead>\n",
              "    <tr style=\"text-align: right;\">\n",
              "      <th></th>\n",
              "      <th>user_id</th>\n",
              "      <th>merchant_id</th>\n",
              "      <th>prob</th>\n",
              "    </tr>\n",
              "  </thead>\n",
              "  <tbody>\n",
              "    <tr>\n",
              "      <th>0</th>\n",
              "      <td>163968</td>\n",
              "      <td>4605</td>\n",
              "      <td>NaN</td>\n",
              "    </tr>\n",
              "    <tr>\n",
              "      <th>1</th>\n",
              "      <td>360576</td>\n",
              "      <td>1581</td>\n",
              "      <td>NaN</td>\n",
              "    </tr>\n",
              "    <tr>\n",
              "      <th>2</th>\n",
              "      <td>98688</td>\n",
              "      <td>1964</td>\n",
              "      <td>NaN</td>\n",
              "    </tr>\n",
              "    <tr>\n",
              "      <th>3</th>\n",
              "      <td>98688</td>\n",
              "      <td>3645</td>\n",
              "      <td>NaN</td>\n",
              "    </tr>\n",
              "    <tr>\n",
              "      <th>4</th>\n",
              "      <td>295296</td>\n",
              "      <td>3361</td>\n",
              "      <td>NaN</td>\n",
              "    </tr>\n",
              "  </tbody>\n",
              "</table>\n",
              "</div>"
            ],
            "text/plain": [
              "   user_id  merchant_id  prob\n",
              "0   163968         4605   NaN\n",
              "1   360576         1581   NaN\n",
              "2    98688         1964   NaN\n",
              "3    98688         3645   NaN\n",
              "4   295296         3361   NaN"
            ]
          },
          "metadata": {
            "tags": []
          },
          "execution_count": 28
        }
      ]
    },
    {
      "cell_type": "code",
      "metadata": {
        "colab": {
          "base_uri": "https://localhost:8080/",
          "height": 195
        },
        "id": "J83B-8yWx1p1",
        "outputId": "2387fc83-3814-4d6b-a2ac-f355f863fedf"
      },
      "source": [
        "user_info.head(5)"
      ],
      "execution_count": 29,
      "outputs": [
        {
          "output_type": "execute_result",
          "data": {
            "text/html": [
              "<div>\n",
              "<style scoped>\n",
              "    .dataframe tbody tr th:only-of-type {\n",
              "        vertical-align: middle;\n",
              "    }\n",
              "\n",
              "    .dataframe tbody tr th {\n",
              "        vertical-align: top;\n",
              "    }\n",
              "\n",
              "    .dataframe thead th {\n",
              "        text-align: right;\n",
              "    }\n",
              "</style>\n",
              "<table border=\"1\" class=\"dataframe\">\n",
              "  <thead>\n",
              "    <tr style=\"text-align: right;\">\n",
              "      <th></th>\n",
              "      <th>user_id</th>\n",
              "      <th>age_range</th>\n",
              "      <th>gender</th>\n",
              "    </tr>\n",
              "  </thead>\n",
              "  <tbody>\n",
              "    <tr>\n",
              "      <th>0</th>\n",
              "      <td>376517</td>\n",
              "      <td>6.0</td>\n",
              "      <td>1.0</td>\n",
              "    </tr>\n",
              "    <tr>\n",
              "      <th>1</th>\n",
              "      <td>234512</td>\n",
              "      <td>5.0</td>\n",
              "      <td>0.0</td>\n",
              "    </tr>\n",
              "    <tr>\n",
              "      <th>2</th>\n",
              "      <td>344532</td>\n",
              "      <td>5.0</td>\n",
              "      <td>0.0</td>\n",
              "    </tr>\n",
              "    <tr>\n",
              "      <th>3</th>\n",
              "      <td>186135</td>\n",
              "      <td>5.0</td>\n",
              "      <td>0.0</td>\n",
              "    </tr>\n",
              "    <tr>\n",
              "      <th>4</th>\n",
              "      <td>30230</td>\n",
              "      <td>5.0</td>\n",
              "      <td>0.0</td>\n",
              "    </tr>\n",
              "  </tbody>\n",
              "</table>\n",
              "</div>"
            ],
            "text/plain": [
              "   user_id  age_range  gender\n",
              "0   376517        6.0     1.0\n",
              "1   234512        5.0     0.0\n",
              "2   344532        5.0     0.0\n",
              "3   186135        5.0     0.0\n",
              "4    30230        5.0     0.0"
            ]
          },
          "metadata": {
            "tags": []
          },
          "execution_count": 29
        }
      ]
    },
    {
      "cell_type": "code",
      "metadata": {
        "colab": {
          "base_uri": "https://localhost:8080/",
          "height": 195
        },
        "id": "BOWDjlT0x9DU",
        "outputId": "0de9b3df-b8a5-4e37-b5bf-1dbc3175f52c"
      },
      "source": [
        "user_log.head(5)"
      ],
      "execution_count": 30,
      "outputs": [
        {
          "output_type": "execute_result",
          "data": {
            "text/html": [
              "<div>\n",
              "<style scoped>\n",
              "    .dataframe tbody tr th:only-of-type {\n",
              "        vertical-align: middle;\n",
              "    }\n",
              "\n",
              "    .dataframe tbody tr th {\n",
              "        vertical-align: top;\n",
              "    }\n",
              "\n",
              "    .dataframe thead th {\n",
              "        text-align: right;\n",
              "    }\n",
              "</style>\n",
              "<table border=\"1\" class=\"dataframe\">\n",
              "  <thead>\n",
              "    <tr style=\"text-align: right;\">\n",
              "      <th></th>\n",
              "      <th>user_id</th>\n",
              "      <th>item_id</th>\n",
              "      <th>cat_id</th>\n",
              "      <th>seller_id</th>\n",
              "      <th>brand_id</th>\n",
              "      <th>time_stamp</th>\n",
              "      <th>action_type</th>\n",
              "    </tr>\n",
              "  </thead>\n",
              "  <tbody>\n",
              "    <tr>\n",
              "      <th>0</th>\n",
              "      <td>328862</td>\n",
              "      <td>323294</td>\n",
              "      <td>833</td>\n",
              "      <td>2882</td>\n",
              "      <td>2661.0</td>\n",
              "      <td>829</td>\n",
              "      <td>0</td>\n",
              "    </tr>\n",
              "    <tr>\n",
              "      <th>1</th>\n",
              "      <td>328862</td>\n",
              "      <td>844400</td>\n",
              "      <td>1271</td>\n",
              "      <td>2882</td>\n",
              "      <td>2661.0</td>\n",
              "      <td>829</td>\n",
              "      <td>0</td>\n",
              "    </tr>\n",
              "    <tr>\n",
              "      <th>2</th>\n",
              "      <td>328862</td>\n",
              "      <td>575153</td>\n",
              "      <td>1271</td>\n",
              "      <td>2882</td>\n",
              "      <td>2661.0</td>\n",
              "      <td>829</td>\n",
              "      <td>0</td>\n",
              "    </tr>\n",
              "    <tr>\n",
              "      <th>3</th>\n",
              "      <td>328862</td>\n",
              "      <td>996875</td>\n",
              "      <td>1271</td>\n",
              "      <td>2882</td>\n",
              "      <td>2661.0</td>\n",
              "      <td>829</td>\n",
              "      <td>0</td>\n",
              "    </tr>\n",
              "    <tr>\n",
              "      <th>4</th>\n",
              "      <td>328862</td>\n",
              "      <td>1086186</td>\n",
              "      <td>1271</td>\n",
              "      <td>1253</td>\n",
              "      <td>1049.0</td>\n",
              "      <td>829</td>\n",
              "      <td>0</td>\n",
              "    </tr>\n",
              "  </tbody>\n",
              "</table>\n",
              "</div>"
            ],
            "text/plain": [
              "   user_id  item_id  cat_id  seller_id  brand_id  time_stamp  action_type\n",
              "0   328862   323294     833       2882    2661.0         829            0\n",
              "1   328862   844400    1271       2882    2661.0         829            0\n",
              "2   328862   575153    1271       2882    2661.0         829            0\n",
              "3   328862   996875    1271       2882    2661.0         829            0\n",
              "4   328862  1086186    1271       1253    1049.0         829            0"
            ]
          },
          "metadata": {
            "tags": []
          },
          "execution_count": 30
        }
      ]
    },
    {
      "cell_type": "code",
      "metadata": {
        "colab": {
          "base_uri": "https://localhost:8080/"
        },
        "id": "ty-7YcpgyCgl",
        "outputId": "7602b21f-299e-4a60-ef5c-2fa6db9c900f"
      },
      "source": [
        "user_info.info()"
      ],
      "execution_count": 31,
      "outputs": [
        {
          "output_type": "stream",
          "text": [
            "<class 'pandas.core.frame.DataFrame'>\n",
            "RangeIndex: 424170 entries, 0 to 424169\n",
            "Data columns (total 3 columns):\n",
            " #   Column     Non-Null Count   Dtype  \n",
            "---  ------     --------------   -----  \n",
            " 0   user_id    424170 non-null  int64  \n",
            " 1   age_range  421953 non-null  float64\n",
            " 2   gender     417734 non-null  float64\n",
            "dtypes: float64(2), int64(1)\n",
            "memory usage: 9.7 MB\n"
          ],
          "name": "stdout"
        }
      ]
    },
    {
      "cell_type": "code",
      "metadata": {
        "colab": {
          "base_uri": "https://localhost:8080/"
        },
        "id": "hFigyTdpyJYz",
        "outputId": "6f4d39bd-c09c-4b6c-ffca-316d92c8039c"
      },
      "source": [
        "user_log.info()"
      ],
      "execution_count": 32,
      "outputs": [
        {
          "output_type": "stream",
          "text": [
            "<class 'pandas.core.frame.DataFrame'>\n",
            "RangeIndex: 54925330 entries, 0 to 54925329\n",
            "Data columns (total 7 columns):\n",
            " #   Column       Dtype  \n",
            "---  ------       -----  \n",
            " 0   user_id      int64  \n",
            " 1   item_id      int64  \n",
            " 2   cat_id       int64  \n",
            " 3   seller_id    int64  \n",
            " 4   brand_id     float64\n",
            " 5   time_stamp   int64  \n",
            " 6   action_type  int64  \n",
            "dtypes: float64(1), int64(6)\n",
            "memory usage: 2.9 GB\n"
          ],
          "name": "stdout"
        }
      ]
    },
    {
      "cell_type": "code",
      "metadata": {
        "colab": {
          "base_uri": "https://localhost:8080/"
        },
        "id": "UH73WW6oyKlf",
        "outputId": "4aabcd5f-e6db-4e89-a489-20e38b09fa0a"
      },
      "source": [
        "train_data.info()"
      ],
      "execution_count": 33,
      "outputs": [
        {
          "output_type": "stream",
          "text": [
            "<class 'pandas.core.frame.DataFrame'>\n",
            "RangeIndex: 260864 entries, 0 to 260863\n",
            "Data columns (total 3 columns):\n",
            " #   Column       Non-Null Count   Dtype\n",
            "---  ------       --------------   -----\n",
            " 0   user_id      260864 non-null  int64\n",
            " 1   merchant_id  260864 non-null  int64\n",
            " 2   label        260864 non-null  int64\n",
            "dtypes: int64(3)\n",
            "memory usage: 6.0 MB\n"
          ],
          "name": "stdout"
        }
      ]
    },
    {
      "cell_type": "code",
      "metadata": {
        "colab": {
          "base_uri": "https://localhost:8080/"
        },
        "id": "cu4Ev_bSyOi6",
        "outputId": "4fc94529-8298-4da7-8f6c-b01759c971eb"
      },
      "source": [
        "(user_info.shape[0]-user_info['age_range'].count())/user_info.shape[0]"
      ],
      "execution_count": 34,
      "outputs": [
        {
          "output_type": "execute_result",
          "data": {
            "text/plain": [
              "0.005226677982884221"
            ]
          },
          "metadata": {
            "tags": []
          },
          "execution_count": 34
        }
      ]
    },
    {
      "cell_type": "code",
      "metadata": {
        "colab": {
          "base_uri": "https://localhost:8080/"
        },
        "id": "3d3R6O03y-Xd",
        "outputId": "3a478830-95bd-4ee4-ff42-fecc2c445a4e"
      },
      "source": [
        "user_info[user_info['age_range'].isna() | (user_info['age_range'] == 0)].count()"
      ],
      "execution_count": 35,
      "outputs": [
        {
          "output_type": "execute_result",
          "data": {
            "text/plain": [
              "user_id      95131\n",
              "age_range    92914\n",
              "gender       90664\n",
              "dtype: int64"
            ]
          },
          "metadata": {
            "tags": []
          },
          "execution_count": 35
        }
      ]
    },
    {
      "cell_type": "code",
      "metadata": {
        "colab": {
          "base_uri": "https://localhost:8080/",
          "height": 343
        },
        "id": "gAoIwB2UzCbj",
        "outputId": "4c251ad2-6d4e-4224-9104-341e7864cffe"
      },
      "source": [
        "user_info.groupby(['age_range'])[['user_id']].count()"
      ],
      "execution_count": 36,
      "outputs": [
        {
          "output_type": "execute_result",
          "data": {
            "text/html": [
              "<div>\n",
              "<style scoped>\n",
              "    .dataframe tbody tr th:only-of-type {\n",
              "        vertical-align: middle;\n",
              "    }\n",
              "\n",
              "    .dataframe tbody tr th {\n",
              "        vertical-align: top;\n",
              "    }\n",
              "\n",
              "    .dataframe thead th {\n",
              "        text-align: right;\n",
              "    }\n",
              "</style>\n",
              "<table border=\"1\" class=\"dataframe\">\n",
              "  <thead>\n",
              "    <tr style=\"text-align: right;\">\n",
              "      <th></th>\n",
              "      <th>user_id</th>\n",
              "    </tr>\n",
              "    <tr>\n",
              "      <th>age_range</th>\n",
              "      <th></th>\n",
              "    </tr>\n",
              "  </thead>\n",
              "  <tbody>\n",
              "    <tr>\n",
              "      <th>0.0</th>\n",
              "      <td>92914</td>\n",
              "    </tr>\n",
              "    <tr>\n",
              "      <th>1.0</th>\n",
              "      <td>24</td>\n",
              "    </tr>\n",
              "    <tr>\n",
              "      <th>2.0</th>\n",
              "      <td>52871</td>\n",
              "    </tr>\n",
              "    <tr>\n",
              "      <th>3.0</th>\n",
              "      <td>111654</td>\n",
              "    </tr>\n",
              "    <tr>\n",
              "      <th>4.0</th>\n",
              "      <td>79991</td>\n",
              "    </tr>\n",
              "    <tr>\n",
              "      <th>5.0</th>\n",
              "      <td>40777</td>\n",
              "    </tr>\n",
              "    <tr>\n",
              "      <th>6.0</th>\n",
              "      <td>35464</td>\n",
              "    </tr>\n",
              "    <tr>\n",
              "      <th>7.0</th>\n",
              "      <td>6992</td>\n",
              "    </tr>\n",
              "    <tr>\n",
              "      <th>8.0</th>\n",
              "      <td>1266</td>\n",
              "    </tr>\n",
              "  </tbody>\n",
              "</table>\n",
              "</div>"
            ],
            "text/plain": [
              "           user_id\n",
              "age_range         \n",
              "0.0          92914\n",
              "1.0             24\n",
              "2.0          52871\n",
              "3.0         111654\n",
              "4.0          79991\n",
              "5.0          40777\n",
              "6.0          35464\n",
              "7.0           6992\n",
              "8.0           1266"
            ]
          },
          "metadata": {
            "tags": []
          },
          "execution_count": 36
        }
      ]
    },
    {
      "cell_type": "code",
      "metadata": {
        "colab": {
          "base_uri": "https://localhost:8080/"
        },
        "id": "YifCKw8HzICj",
        "outputId": "82bcb61f-e036-4a45-b414-4d8bee45e553"
      },
      "source": [
        "(user_info.shape[0]-user_info['gender'].count())/user_info.shape[0]"
      ],
      "execution_count": 37,
      "outputs": [
        {
          "output_type": "execute_result",
          "data": {
            "text/plain": [
              "0.01517316170403376"
            ]
          },
          "metadata": {
            "tags": []
          },
          "execution_count": 37
        }
      ]
    },
    {
      "cell_type": "code",
      "metadata": {
        "colab": {
          "base_uri": "https://localhost:8080/"
        },
        "id": "fubbN2q-zStD",
        "outputId": "91428dea-6b6c-466b-d340-10107c48e344"
      },
      "source": [
        "user_info[user_info['gender'].isna() | (user_info['gender'] == 2)].count()"
      ],
      "execution_count": 38,
      "outputs": [
        {
          "output_type": "execute_result",
          "data": {
            "text/plain": [
              "user_id      16862\n",
              "age_range    14664\n",
              "gender       10426\n",
              "dtype: int64"
            ]
          },
          "metadata": {
            "tags": []
          },
          "execution_count": 38
        }
      ]
    },
    {
      "cell_type": "code",
      "metadata": {
        "colab": {
          "base_uri": "https://localhost:8080/",
          "height": 166
        },
        "id": "s8kGlnwVzT9t",
        "outputId": "8de1ef4b-707d-4269-e780-fc11d0b88464"
      },
      "source": [
        "user_info.groupby(['gender'])[['user_id']].count()"
      ],
      "execution_count": 39,
      "outputs": [
        {
          "output_type": "execute_result",
          "data": {
            "text/html": [
              "<div>\n",
              "<style scoped>\n",
              "    .dataframe tbody tr th:only-of-type {\n",
              "        vertical-align: middle;\n",
              "    }\n",
              "\n",
              "    .dataframe tbody tr th {\n",
              "        vertical-align: top;\n",
              "    }\n",
              "\n",
              "    .dataframe thead th {\n",
              "        text-align: right;\n",
              "    }\n",
              "</style>\n",
              "<table border=\"1\" class=\"dataframe\">\n",
              "  <thead>\n",
              "    <tr style=\"text-align: right;\">\n",
              "      <th></th>\n",
              "      <th>user_id</th>\n",
              "    </tr>\n",
              "    <tr>\n",
              "      <th>gender</th>\n",
              "      <th></th>\n",
              "    </tr>\n",
              "  </thead>\n",
              "  <tbody>\n",
              "    <tr>\n",
              "      <th>0.0</th>\n",
              "      <td>285638</td>\n",
              "    </tr>\n",
              "    <tr>\n",
              "      <th>1.0</th>\n",
              "      <td>121670</td>\n",
              "    </tr>\n",
              "    <tr>\n",
              "      <th>2.0</th>\n",
              "      <td>10426</td>\n",
              "    </tr>\n",
              "  </tbody>\n",
              "</table>\n",
              "</div>"
            ],
            "text/plain": [
              "        user_id\n",
              "gender         \n",
              "0.0      285638\n",
              "1.0      121670\n",
              "2.0       10426"
            ]
          },
          "metadata": {
            "tags": []
          },
          "execution_count": 39
        }
      ]
    },
    {
      "cell_type": "code",
      "metadata": {
        "colab": {
          "base_uri": "https://localhost:8080/"
        },
        "id": "uiuF2OsEzamT",
        "outputId": "fb1eedb0-15bc-4a79-e888-cc8b9081264b"
      },
      "source": [
        "user_log.isna().sum()"
      ],
      "execution_count": 40,
      "outputs": [
        {
          "output_type": "execute_result",
          "data": {
            "text/plain": [
              "user_id            0\n",
              "item_id            0\n",
              "cat_id             0\n",
              "seller_id          0\n",
              "brand_id       91015\n",
              "time_stamp         0\n",
              "action_type        0\n",
              "dtype: int64"
            ]
          },
          "metadata": {
            "tags": []
          },
          "execution_count": 40
        }
      ]
    },
    {
      "cell_type": "code",
      "metadata": {
        "colab": {
          "base_uri": "https://localhost:8080/",
          "height": 284
        },
        "id": "XlrsX0wBzbs6",
        "outputId": "0bf5b43e-f610-4ce2-e058-44aef7768d22"
      },
      "source": [
        "user_info.describe()"
      ],
      "execution_count": 41,
      "outputs": [
        {
          "output_type": "execute_result",
          "data": {
            "text/html": [
              "<div>\n",
              "<style scoped>\n",
              "    .dataframe tbody tr th:only-of-type {\n",
              "        vertical-align: middle;\n",
              "    }\n",
              "\n",
              "    .dataframe tbody tr th {\n",
              "        vertical-align: top;\n",
              "    }\n",
              "\n",
              "    .dataframe thead th {\n",
              "        text-align: right;\n",
              "    }\n",
              "</style>\n",
              "<table border=\"1\" class=\"dataframe\">\n",
              "  <thead>\n",
              "    <tr style=\"text-align: right;\">\n",
              "      <th></th>\n",
              "      <th>user_id</th>\n",
              "      <th>age_range</th>\n",
              "      <th>gender</th>\n",
              "    </tr>\n",
              "  </thead>\n",
              "  <tbody>\n",
              "    <tr>\n",
              "      <th>count</th>\n",
              "      <td>424170.000000</td>\n",
              "      <td>421953.000000</td>\n",
              "      <td>417734.000000</td>\n",
              "    </tr>\n",
              "    <tr>\n",
              "      <th>mean</th>\n",
              "      <td>212085.500000</td>\n",
              "      <td>2.930262</td>\n",
              "      <td>0.341179</td>\n",
              "    </tr>\n",
              "    <tr>\n",
              "      <th>std</th>\n",
              "      <td>122447.476178</td>\n",
              "      <td>1.942978</td>\n",
              "      <td>0.524112</td>\n",
              "    </tr>\n",
              "    <tr>\n",
              "      <th>min</th>\n",
              "      <td>1.000000</td>\n",
              "      <td>0.000000</td>\n",
              "      <td>0.000000</td>\n",
              "    </tr>\n",
              "    <tr>\n",
              "      <th>25%</th>\n",
              "      <td>106043.250000</td>\n",
              "      <td>2.000000</td>\n",
              "      <td>0.000000</td>\n",
              "    </tr>\n",
              "    <tr>\n",
              "      <th>50%</th>\n",
              "      <td>212085.500000</td>\n",
              "      <td>3.000000</td>\n",
              "      <td>0.000000</td>\n",
              "    </tr>\n",
              "    <tr>\n",
              "      <th>75%</th>\n",
              "      <td>318127.750000</td>\n",
              "      <td>4.000000</td>\n",
              "      <td>1.000000</td>\n",
              "    </tr>\n",
              "    <tr>\n",
              "      <th>max</th>\n",
              "      <td>424170.000000</td>\n",
              "      <td>8.000000</td>\n",
              "      <td>2.000000</td>\n",
              "    </tr>\n",
              "  </tbody>\n",
              "</table>\n",
              "</div>"
            ],
            "text/plain": [
              "             user_id      age_range         gender\n",
              "count  424170.000000  421953.000000  417734.000000\n",
              "mean   212085.500000       2.930262       0.341179\n",
              "std    122447.476178       1.942978       0.524112\n",
              "min         1.000000       0.000000       0.000000\n",
              "25%    106043.250000       2.000000       0.000000\n",
              "50%    212085.500000       3.000000       0.000000\n",
              "75%    318127.750000       4.000000       1.000000\n",
              "max    424170.000000       8.000000       2.000000"
            ]
          },
          "metadata": {
            "tags": []
          },
          "execution_count": 41
        }
      ]
    },
    {
      "cell_type": "code",
      "metadata": {
        "colab": {
          "base_uri": "https://localhost:8080/",
          "height": 489
        },
        "id": "Tc245IjHziq0",
        "outputId": "c2d19ad5-d228-4ea8-eadd-96d97de2bcd2"
      },
      "source": [
        "label_gp = train_data.groupby('label')['user_id'].count()\r\n",
        "print('正负样本的数量：\\n',label_gp)\r\n",
        "_,axe = plt.subplots(1,2,figsize=(12,6))\r\n",
        "train_data.label.value_counts().plot(kind='pie',autopct='%1.1f%%',shadow=True,explode=[0,0.1],ax=axe[0])\r\n",
        "sns.countplot('label',data=train_data,ax=axe[1],)"
      ],
      "execution_count": 42,
      "outputs": [
        {
          "output_type": "stream",
          "text": [
            "正负样本的数量：\n",
            " label\n",
            "0    244912\n",
            "1     15952\n",
            "Name: user_id, dtype: int64\n"
          ],
          "name": "stdout"
        },
        {
          "output_type": "execute_result",
          "data": {
            "text/plain": [
              "<matplotlib.axes._subplots.AxesSubplot at 0x7f33f8d1d748>"
            ]
          },
          "metadata": {
            "tags": []
          },
          "execution_count": 42
        },
        {
          "output_type": "display_data",
          "data": {
            "image/png": "[encoded data removed]",
            "text/plain": [
              "<Figure size 864x432 with 2 Axes>"
            ]
          },
          "metadata": {
            "tags": [],
            "needs_background": "light"
          }
        }
      ]
    },
    {
      "cell_type": "code",
      "metadata": {
        "id": "07s-PHHw6JcS"
      },
      "source": [
        "from numpy import *\r\n",
        "import re\r\n",
        "\r\n",
        "def createData(train_data):\r\n",
        "  mat = []\r\n",
        "  req = re.compile(r',')\r\n",
        "  fr = open(train_data)\r\n",
        "  content = fr.readlines()\r\n",
        "  for line in content:\r\n",
        "    tem = line.replace('\\n','').split(',')\r\n",
        "    mat.append(tem)\r\n",
        "  return mat\r\n",
        "\r\n",
        "def loadDataSet():\r\n",
        "  return [[1, 3, 4], [2, 3, 5], [1, 2, 3, 5], [2, 5]]\r\n",
        "\r\n",
        "# C1 是大小为1的所有候选项集的集合\r\n",
        "def createC1(dataSet):\r\n",
        "  C1 = []\r\n",
        "  for transaction in dataSet:\r\n",
        "    for item in transaction:\r\n",
        "      if not [item] in C1:\r\n",
        "        C1.append([item]) #store all the item unrepeatly\r\n",
        "\r\n",
        "  C1.sort()\r\n",
        "  #return map(frozenset, C1)#frozen set, user can't change it.\r\n",
        "  return list(map(frozenset, C1))\r\n",
        "\r\n",
        "def scanD(D,Ck,minSupport):\r\n",
        "  ssCnt={}\r\n",
        "  for tid in D:\r\n",
        "    for can in Ck:\r\n",
        "      if can.issubset(tid):\r\n",
        "        #if not ssCnt.has_key(can):\r\n",
        "          if not can in ssCnt:\r\n",
        "            ssCnt[can]=1\r\n",
        "          else: ssCnt[can]+=1\r\n",
        "  numItems=float(len(D))\r\n",
        "  retList = []\r\n",
        "  supportData = {}\r\n",
        "  for key in ssCnt:\r\n",
        "    support = ssCnt[key]/numItems   #compute support\r\n",
        "    if support >= minSupport:\r\n",
        "      retList.insert(0,key)\r\n",
        "    supportData[key] = support\r\n",
        "  return retList, supportData\r\n",
        "\r\n",
        "#total apriori\r\n",
        "def aprioriGen(Lk, k): #组合，向上合并\r\n",
        "  #creates Ck 参数：频繁项集列表 Lk 与项集元素个数 k\r\n",
        "  retList = []\r\n",
        "  lenLk = len(Lk)\r\n",
        "  for i in range(lenLk):\r\n",
        "    for j in range(i+1, lenLk): #两两组合遍历\r\n",
        "      L1 = list(Lk[i])[:k-2]; L2 = list(Lk[j])[:k-2]\r\n",
        "      L1.sort(); L2.sort()\r\n",
        "      if L1==L2: #若两个集合的前k-2个项相同时,则将两个集合合并\r\n",
        "        retList.append(Lk[i] | Lk[j]) #set union\r\n",
        "  return retList\r\n",
        "\r\n",
        "#apriori\r\n",
        "def apriori(dataSet, minSupport = 0.5):\r\n",
        "  C1 = createC1(dataSet)\r\n",
        "  D = list(map(set, dataSet)) #python3\r\n",
        "  L1, supportData = scanD(D, C1, minSupport)#单项最小支持度判断 0.5，生成L1\r\n",
        "  L = [L1]\r\n",
        "  k = 2\r\n",
        "  while (len(L[k-2]) > 0):#创建包含更大项集的更大列表,直到下一个大的项集为空\r\n",
        "    Ck = aprioriGen(L[k-2], k)#Ck\r\n",
        "    Lk, supK = scanD(D, Ck, minSupport)#get Lk\r\n",
        "    supportData.update(supK)\r\n",
        "    L.append(Lk)\r\n",
        "    k += 1 #继续向上合并 生成项集个数更多的\r\n",
        "  return L, supportData\r\n",
        "\r\n",
        "#生成关联规则\r\n",
        "# 创建关联规则\r\n",
        "def generateRules(train_data, L, supportData, minConf=0.7):  # supportData是从scanD获得的字段\r\n",
        "  bigRuleList = []\r\n",
        "  for i in range(1, len(L)):  # 只获得又有2个或以上的项目的集合\r\n",
        "    for freqSet in L[i]:\r\n",
        "      H1 = [frozenset([item]) for item in freqSet]\r\n",
        "      if (i > 1):\r\n",
        "        rulesFromConseq(train_data, freqSet, H1, supportData, bigRuleList, minConf)\r\n",
        "      else:\r\n",
        "        calcConf(train_data, freqSet, H1, supportData, bigRuleList, minConf)\r\n",
        "  return bigRuleList\r\n",
        "\r\n",
        "# 实例数、支持度、置信度和提升度评估\r\n",
        "def calcConf(train_data, freqSet, H, supportData, brl, minConf=0.7):\r\n",
        "  prunedH = []\r\n",
        "  D = train_data\r\n",
        "  numItems = float(len(D))\r\n",
        "  for conseq in H:\r\n",
        "    conf = supportData[freqSet] / supportData[freqSet - conseq]  # 计算置信度\r\n",
        "    if conf >= minConf:\r\n",
        "      instances = numItems * supportData[freqSet]  # 计算实例数\r\n",
        "      liftvalue = conf / supportData[conseq]  # 计算提升度\r\n",
        "      brl.append((freqSet - conseq, conseq, int(instances), round(supportData[freqSet], 4), round(conf, 4),\r\n",
        "                        round(liftvalue, 4)))  # 支持度已经在SCAND中计算得出\r\n",
        "      prunedH.append(conseq)\r\n",
        "  return prunedH\r\n",
        "\r\n",
        "# 生成候选规则集\r\n",
        "def rulesFromConseq(train_data, freqSet, H, supportData, brl, minConf=0.7):\r\n",
        "  m = len(H[0])\r\n",
        "  if (len(freqSet) > (m + 1)):\r\n",
        "    Hmp1 = aprioriGen(H, m + 1)\r\n",
        "    Hmp1 = calcConf(train_data, freqSet, Hmp1, supportData, brl, minConf)\r\n",
        "    if (len(Hmp1) > 1):\r\n",
        "      rulesFromConseq(train_data, freqSet, Hmp1, supportData, brl, minConf)\r\n"
      ],
      "execution_count": 62,
      "outputs": []
    },
    {
      "cell_type": "code",
      "metadata": {
        "colab": {
          "base_uri": "https://localhost:8080/"
        },
        "id": "PozFn3jx9S20",
        "outputId": "7167878f-a7e5-4ab5-bbfa-c1141b25dd1d"
      },
      "source": [
        "pip install apyori"
      ],
      "execution_count": 57,
      "outputs": [
        {
          "output_type": "stream",
          "text": [
            "Collecting apyori\n",
            "  Downloading https://files.pythonhosted.org/packages/5e/62/5ffde5c473ea4b033490617ec5caa80d59804875ad3c3c57c0976533a21a/apyori-1.1.2.tar.gz\n",
            "Building wheels for collected packages: apyori\n",
            "  Building wheel for apyori (setup.py) ... \u001b[?25l\u001b[?25hdone\n",
            "  Created wheel for apyori: filename=apyori-1.1.2-cp36-none-any.whl size=5977 sha256=3ffdb32379ccd385b458443b9a5ba2c34d735f078181446c048dab95952ad7a5\n",
            "  Stored in directory: /root/.cache/pip/wheels/5d/92/bb/474bbadbc8c0062b9eb168f69982a0443263f8ab1711a8cad0\n",
            "Successfully built apyori\n",
            "Installing collected packages: apyori\n",
            "Successfully installed apyori-1.1.2\n"
          ],
          "name": "stdout"
        }
      ]
    },
    {
      "cell_type": "code",
      "metadata": {
        "colab": {
          "base_uri": "https://localhost:8080/",
          "height": 233
        },
        "id": "2qyesVE58OM3",
        "outputId": "d809e6cd-c3f2-4eb9-a9b0-1b271bf29a07"
      },
      "source": [
        "import apyori\r\n",
        "from apyori import apriori\r\n",
        "#import pandas as pd 前文已引入\r\n",
        "from graphviz import Digraph\r\n",
        "\r\n",
        "\r\n",
        "# 设置最小支持度阈值\r\n",
        "minS = 0.5\r\n",
        "# 设置最小置信度阈值\r\n",
        "minC = 0.7\r\n",
        "\r\n",
        "data = apriori.loadDataSet()\r\n",
        "\r\n",
        "# 计算符合最小支持度的规则\r\n",
        "L, suppdata = apriori.apriori(data, minSupport=minS)\r\n",
        "\r\n",
        "# 计算满足最小置信度规则\r\n",
        "rules = apriori.generateRules(data, L, suppdata, minConf=minC)\r\n",
        "\r\n",
        "### 关联结果评估###\r\n",
        "model_summary = 'data record: {1} \\nassociation rules count: {0}'  # 展示数据集记录数和满足阈值定义的规则数量\r\n",
        "print (model_summary.format(len(rules), len(data)))  # 使用str.format做格式化输出\r\n",
        "df =  pd.DataFrame(rules,  columns=['item1',  'itme2',  'instance',  'support',\r\n",
        "    'confidence', 'lift'])  # 创建频繁规则数据框\r\n",
        "df_lift = df[df['lift'] > 1.0]  # 只选择提升度>1的规则\r\n",
        "df_lift.sort_values('instance', ascending=False)"
      ],
      "execution_count": 63,
      "outputs": [
        {
          "output_type": "error",
          "ename": "AttributeError",
          "evalue": "ignored",
          "traceback": [
            "\u001b[0;31m---------------------------------------------------------------------------\u001b[0m",
            "\u001b[0;31mAttributeError\u001b[0m                            Traceback (most recent call last)",
            "\u001b[0;32m<ipython-input-63-f7213fa8ab29>\u001b[0m in \u001b[0;36m<module>\u001b[0;34m()\u001b[0m\n\u001b[1;32m     10\u001b[0m \u001b[0mminC\u001b[0m \u001b[0;34m=\u001b[0m \u001b[0;36m0.7\u001b[0m\u001b[0;34m\u001b[0m\u001b[0;34m\u001b[0m\u001b[0m\n\u001b[1;32m     11\u001b[0m \u001b[0;34m\u001b[0m\u001b[0m\n\u001b[0;32m---> 12\u001b[0;31m \u001b[0mdata\u001b[0m \u001b[0;34m=\u001b[0m \u001b[0mapriori\u001b[0m\u001b[0;34m.\u001b[0m\u001b[0mloadDataSet\u001b[0m\u001b[0;34m(\u001b[0m\u001b[0;34m)\u001b[0m\u001b[0;34m\u001b[0m\u001b[0;34m\u001b[0m\u001b[0m\n\u001b[0m\u001b[1;32m     13\u001b[0m \u001b[0;34m\u001b[0m\u001b[0m\n\u001b[1;32m     14\u001b[0m \u001b[0;31m# 计算符合最小支持度的规则\u001b[0m\u001b[0;34m\u001b[0m\u001b[0;34m\u001b[0m\u001b[0;34m\u001b[0m\u001b[0m\n",
            "\u001b[0;31mAttributeError\u001b[0m: 'function' object has no attribute 'loadDataSet'"
          ]
        }
      ]
    },
    {
      "cell_type": "code",
      "metadata": {
        "colab": {
          "base_uri": "https://localhost:8080/",
          "height": 539
        },
        "id": "chHshm4iznW_",
        "outputId": "59b5b131-4aef-4b04-fdfa-09af2349783d"
      },
      "source": [
        "print('选取top5店铺\\n店铺\\t购买次数')\r\n",
        "print(train_data.merchant_id.value_counts().head(5))\r\n",
        "train_data_merchant = train_data.copy()\r\n",
        "train_data_merchant['TOP5'] = train_data_merchant['merchant_id'].map(lambda x: 1 if x in [4044,3828,4173,1102,4976] else 0)\r\n",
        "train_data_merchant = train_data_merchant[train_data_merchant['TOP5']==1]\r\n",
        "plt.figure(figsize=(8,6))\r\n",
        "plt.title('Merchant VS Label')\r\n",
        "ax = sns.countplot('merchant_id',hue='label',data=train_data_merchant)\r\n",
        "for p in ax.patches:\r\n",
        "    height = p.get_height()"
      ],
      "execution_count": 43,
      "outputs": [
        {
          "output_type": "stream",
          "text": [
            "选取top5店铺\n",
            "店铺\t购买次数\n",
            "4044    3379\n",
            "3828    3254\n",
            "4173    2542\n",
            "1102    2483\n",
            "4976    1925\n",
            "Name: merchant_id, dtype: int64\n"
          ],
          "name": "stdout"
        },
        {
          "output_type": "display_data",
          "data": {
            "image/png": "[encoded data removed]",
            "text/plain": [
              "<Figure size 576x432 with 1 Axes>"
            ]
          },
          "metadata": {
            "tags": [],
            "needs_background": "light"
          }
        }
      ]
    },
    {
      "cell_type": "code",
      "metadata": {
        "colab": {
          "base_uri": "https://localhost:8080/",
          "height": 295
        },
        "id": "bBXYLjcs0HUW",
        "outputId": "d45ef8b4-6c00-4480-d274-f573541ccc44"
      },
      "source": [
        "merchant_repeat_buy = [ rate for rate in train_data.groupby(['merchant_id'])['label'].mean() if rate <= 1 and rate > 0] \r\n",
        "plt.figure(figsize=(8,4))\r\n",
        "\r\n",
        "ax=plt.subplot(1,2,1)\r\n",
        "sns.distplot(merchant_repeat_buy, fit=stats.norm)\r\n",
        "ax=plt.subplot(1,2,2)\r\n",
        "res = stats.probplot(merchant_repeat_buy, plot=plt)"
      ],
      "execution_count": 44,
      "outputs": [
        {
          "output_type": "display_data",
          "data": {
            "image/png": "[encoded data removed]",
            "text/plain": [
              "<Figure size 576x288 with 2 Axes>"
            ]
          },
          "metadata": {
            "tags": [],
            "needs_background": "light"
          }
        }
      ]
    },
    {
      "cell_type": "code",
      "metadata": {
        "colab": {
          "base_uri": "https://localhost:8080/",
          "height": 513
        },
        "id": "ZViTPF7u0Us1",
        "outputId": "6be0a29c-2d1e-47b9-9e4e-9749c9931e82"
      },
      "source": [
        "train_data_user_info = train_data.merge(user_info,on=['user_id'],how='left')\r\n",
        "plt.figure(figsize=(8,8))\r\n",
        "plt.title('Gender VS Label')\r\n",
        "ax = sns.countplot('gender',hue='label',data = train_data_user_info)\r\n",
        "for p in ax.patches:\r\n",
        "    height = p.get_height()"
      ],
      "execution_count": 47,
      "outputs": [
        {
          "output_type": "display_data",
          "data": {
            "image/png": "[encoded data removed]",
            "text/plain": [
              "<Figure size 576x576 with 1 Axes>"
            ]
          },
          "metadata": {
            "tags": [],
            "needs_background": "light"
          }
        }
      ]
    },
    {
      "cell_type": "code",
      "metadata": {
        "colab": {
          "base_uri": "https://localhost:8080/",
          "height": 295
        },
        "id": "l5uwxUdo0-W3",
        "outputId": "968b1eda-f49b-4f11-8620-6a3fbc5145ad"
      },
      "source": [
        "repeat_buy = [rate for rate in train_data_user_info.groupby(['gender'])['label'].mean()] \r\n",
        "\r\n",
        "plt.figure(figsize=(8,4))\r\n",
        "\r\n",
        "ax=plt.subplot(1,2,1)\r\n",
        "sns.distplot(repeat_buy, fit=stats.norm)\r\n",
        "ax=plt.subplot(1,2,2)\r\n",
        "res = stats.probplot(repeat_buy, plot=plt)"
      ],
      "execution_count": 48,
      "outputs": [
        {
          "output_type": "display_data",
          "data": {
            "image/png": "[encoded data removed]",
            "text/plain": [
              "<Figure size 576x288 with 2 Axes>"
            ]
          },
          "metadata": {
            "tags": [],
            "needs_background": "light"
          }
        }
      ]
    },
    {
      "cell_type": "code",
      "metadata": {
        "colab": {
          "base_uri": "https://localhost:8080/",
          "height": 513
        },
        "id": "SHTXGlNH1ENf",
        "outputId": "5c51ab7c-5c21-47d1-ab9c-27d5508b13f2"
      },
      "source": [
        "plt.figure(figsize=(8,8))\r\n",
        "plt.title('Age VS Label')\r\n",
        "ax = sns.countplot('age_range',hue='label',data=train_data_user_info)"
      ],
      "execution_count": 49,
      "outputs": [
        {
          "output_type": "display_data",
          "data": {
            "image/png": "[encoded data removed]",
            "text/plain": [
              "<Figure size 576x576 with 1 Axes>"
            ]
          },
          "metadata": {
            "tags": [],
            "needs_background": "light"
          }
        }
      ]
    },
    {
      "cell_type": "code",
      "metadata": {
        "colab": {
          "base_uri": "https://localhost:8080/",
          "height": 295
        },
        "id": "xq0d78ML1HIc",
        "outputId": "1197ab95-0ee3-453b-cd91-964cf5f42c2c"
      },
      "source": [
        "repeat_buy = [rate for rate in train_data_user_info.groupby(['age_range'])['label'].mean()] \r\n",
        "\r\n",
        "plt.figure(figsize=(8,4))\r\n",
        "\r\n",
        "ax=plt.subplot(1,2,1)\r\n",
        "sns.distplot(repeat_buy, fit=stats.norm)\r\n",
        "ax=plt.subplot(1,2,2)\r\n",
        "res = stats.probplot(repeat_buy, plot=plt)"
      ],
      "execution_count": 50,
      "outputs": [
        {
          "output_type": "display_data",
          "data": {
            "image/png": "[encoded data removed]",
            "text/plain": [
              "<Figure size 576x288 with 2 Axes>"
            ]
          },
          "metadata": {
            "tags": [],
            "needs_background": "light"
          }
        }
      ]
    }
  ]
}